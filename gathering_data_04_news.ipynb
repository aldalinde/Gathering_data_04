{
 "cells": [
  {
   "cell_type": "markdown",
   "metadata": {},
   "source": [
    "\n",
    "1) Необходимо собрать информацию о вакансиях на вводимую должность\n",
    "(используем input или через аргументы)\n",
    "с сайта hh.ru. Приложение должно анализировать несколько страниц сайта\n",
    "(также вводим через input или аргументы). "
   ]
  },
  {
   "cell_type": "code",
   "execution_count": 1,
   "metadata": {},
   "outputs": [],
   "source": [
    "import numpy as np\n",
    "import pandas as pd\n",
    "from pprint import pprint\n",
    "import requests\n",
    "from lxml import html"
   ]
  },
  {
   "cell_type": "code",
   "execution_count": 2,
   "metadata": {},
   "outputs": [],
   "source": [
    "mail_link = 'https://mail.ru/'\n"
   ]
  },
  {
   "cell_type": "code",
   "execution_count": 3,
   "metadata": {},
   "outputs": [],
   "source": [
    "#lenta_link = 'https://lenta.ru/''"
   ]
  },
  {
   "cell_type": "code",
   "execution_count": 4,
   "metadata": {},
   "outputs": [],
   "source": [
    "# getting html code\n",
    "def get_html(link):\n",
    "    response = requests.get(link,\n",
    "                            headers={'User-Agent': \"Mozilla/5.0 (Windows NT 10.0; Win64; x64)\"\n",
    "                                     \" AppleWebKit/537.36 (KHTML, like Gecko) Chrome/77.0.3865.120 Safari/537.36\"})\n",
    "    html_page = html.fromstring(response.text)\n",
    "\n",
    "    return html_page\n"
   ]
  },
  {
   "cell_type": "code",
   "execution_count": 5,
   "metadata": {},
   "outputs": [],
   "source": [
    "def get_news_mail(html_page):\n",
    "\n",
    "    news_name = html_page.xpath(\"//div[contains(@class,'news-item_inline')]/div/a[not(@class)]/text()|//div[contains(@class,'news-item_main')]/a[@href]/div/div/h3/text()\")\n",
    "    news_link = html_page.xpath(\"//div[contains(@class,'news-item_inline')]/div/a[not(@class)]/@href|//div[contains(@class,'news-item_main')]/a/@href\")\n",
    " \n",
    "    return news_name, news_link"
   ]
  },
  {
   "cell_type": "code",
   "execution_count": 6,
   "metadata": {},
   "outputs": [],
   "source": [
    "news_name_mail, news_link_mail = get_news_mail(get_html(mail_link))"
   ]
  },
  {
   "cell_type": "code",
   "execution_count": 7,
   "metadata": {},
   "outputs": [],
   "source": [
    "def get_time_mail(html_page):\n",
    "#    time_string = html_page.xpath('//span[@datetime][position()<2]/@datetime')\n",
    "    time_string = html_page.xpath('//span[@datetime][1]/@datetime')\n",
    "    if time_string:\n",
    "        return time_string\n",
    "    else:\n",
    "        no_time = np.nan\n",
    "        return no_time"
   ]
  },
  {
   "cell_type": "code",
   "execution_count": 8,
   "metadata": {},
   "outputs": [],
   "source": [
    "news_time_mail = []\n",
    "for i in range (len(news_link_mail)):\n",
    "    news_time_mail.append(get_time_mail(get_html(news_link_mail[i])))"
   ]
  },
  {
   "cell_type": "code",
   "execution_count": 9,
   "metadata": {},
   "outputs": [],
   "source": [
    "import datetime"
   ]
  },
  {
   "cell_type": "code",
   "execution_count": 10,
   "metadata": {},
   "outputs": [],
   "source": [
    "dates_mail = []\n",
    "for d in news_time_mail:\n",
    "    news_date = datetime.datetime.strptime(str(d[0]), \"%Y-%m-%dT%H:%M:%S%z\").strftime('%d/%m/%y,%H:%M')\n",
    "\n",
    "    dates_mail.append(news_date)"
   ]
  },
  {
   "cell_type": "code",
   "execution_count": 11,
   "metadata": {},
   "outputs": [],
   "source": [
    "# forming an empty dataframe\n",
    "\n",
    "\n",
    "news_db_mail = pd.DataFrame({'News header': news_name_mail, 'News link': news_link_mail, 'News date': dates_mail},\n",
    "                     columns=['News header', 'News link', 'News date'])\n",
    "\n",
    "\n"
   ]
  },
  {
   "cell_type": "code",
   "execution_count": 12,
   "metadata": {},
   "outputs": [
    {
     "data": {
      "text/html": [
       "<div>\n",
       "<style scoped>\n",
       "    .dataframe tbody tr th:only-of-type {\n",
       "        vertical-align: middle;\n",
       "    }\n",
       "\n",
       "    .dataframe tbody tr th {\n",
       "        vertical-align: top;\n",
       "    }\n",
       "\n",
       "    .dataframe thead th {\n",
       "        text-align: right;\n",
       "    }\n",
       "</style>\n",
       "<table border=\"1\" class=\"dataframe\">\n",
       "  <thead>\n",
       "    <tr style=\"text-align: right;\">\n",
       "      <th></th>\n",
       "      <th>News header</th>\n",
       "      <th>News link</th>\n",
       "      <th>News date</th>\n",
       "    </tr>\n",
       "  </thead>\n",
       "  <tbody>\n",
       "    <tr>\n",
       "      <th>0</th>\n",
       "      <td>Путин наградил бортпроводницу, спасшую людей и...</td>\n",
       "      <td>https://news.mail.ru/incident/39269360/?fromma...</td>\n",
       "      <td>28/10/19,17:43</td>\n",
       "    </tr>\n",
       "    <tr>\n",
       "      <th>1</th>\n",
       "      <td>Опубликован брачный договор сбежавшего из Росс...</td>\n",
       "      <td>https://news.mail.ru/economics/39269533/?fromm...</td>\n",
       "      <td>28/10/19,18:06</td>\n",
       "    </tr>\n",
       "    <tr>\n",
       "      <th>2</th>\n",
       "      <td>Роструд напомнил о короткой рабочей неделе\\r\\n</td>\n",
       "      <td>https://news.mail.ru/society/39263519/?frommail=1</td>\n",
       "      <td>28/10/19,13:13</td>\n",
       "    </tr>\n",
       "    <tr>\n",
       "      <th>3</th>\n",
       "      <td>В Англии спасают мужчину, свисающего с вершины...</td>\n",
       "      <td>https://news.mail.ru/incident/39268008/?fromma...</td>\n",
       "      <td>28/10/19,16:16</td>\n",
       "    </tr>\n",
       "    <tr>\n",
       "      <th>4</th>\n",
       "      <td>Дочь годами писала сообщения покойному отцу и ...</td>\n",
       "      <td>https://news.mail.ru/society/39269141/?frommai...</td>\n",
       "      <td>28/10/19,17:23</td>\n",
       "    </tr>\n",
       "  </tbody>\n",
       "</table>\n",
       "</div>"
      ],
      "text/plain": [
       "                                         News header  \\\n",
       "0  Путин наградил бортпроводницу, спасшую людей и...   \n",
       "1  Опубликован брачный договор сбежавшего из Росс...   \n",
       "2     Роструд напомнил о короткой рабочей неделе\\r\\n   \n",
       "3  В Англии спасают мужчину, свисающего с вершины...   \n",
       "4  Дочь годами писала сообщения покойному отцу и ...   \n",
       "\n",
       "                                           News link       News date  \n",
       "0  https://news.mail.ru/incident/39269360/?fromma...  28/10/19,17:43  \n",
       "1  https://news.mail.ru/economics/39269533/?fromm...  28/10/19,18:06  \n",
       "2  https://news.mail.ru/society/39263519/?frommail=1  28/10/19,13:13  \n",
       "3  https://news.mail.ru/incident/39268008/?fromma...  28/10/19,16:16  \n",
       "4  https://news.mail.ru/society/39269141/?frommai...  28/10/19,17:23  "
      ]
     },
     "execution_count": 12,
     "metadata": {},
     "output_type": "execute_result"
    }
   ],
   "source": [
    "news_db_mail.head()"
   ]
  },
  {
   "cell_type": "code",
   "execution_count": null,
   "metadata": {},
   "outputs": [],
   "source": []
  }
 ],
 "metadata": {
  "kernelspec": {
   "display_name": "Python 3",
   "language": "python",
   "name": "python3"
  },
  "language_info": {
   "codemirror_mode": {
    "name": "ipython",
    "version": 3
   },
   "file_extension": ".py",
   "mimetype": "text/x-python",
   "name": "python",
   "nbconvert_exporter": "python",
   "pygments_lexer": "ipython3",
   "version": "3.7.2"
  }
 },
 "nbformat": 4,
 "nbformat_minor": 2
}
