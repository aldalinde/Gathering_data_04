{
 "cells": [
  {
   "cell_type": "markdown",
   "metadata": {},
   "source": [
    "Написать приложение, которое собирает основные новости с сайтов lenta.ru.\n",
    "Для парсинга использовать xpath. Структура данных должна содержать:\n",
    "* название источника,\n",
    "* наименование новости,\n",
    "* ссылку на новость,\n",
    "* дата публикации"
   ]
  },
  {
   "cell_type": "code",
   "execution_count": 1,
   "metadata": {},
   "outputs": [],
   "source": [
    "import numpy as np\n",
    "import pandas as pd\n",
    "from pprint import pprint\n",
    "import requests\n",
    "from lxml import html"
   ]
  },
  {
   "cell_type": "code",
   "execution_count": 2,
   "metadata": {},
   "outputs": [],
   "source": [
    "lenta_link = 'https://lenta.ru/'"
   ]
  },
  {
   "cell_type": "code",
   "execution_count": 3,
   "metadata": {},
   "outputs": [],
   "source": [
    "# getting html code\n",
    "def get_html(link):\n",
    "    response = requests.get(link,\n",
    "                            headers={'User-Agent': \"Mozilla/5.0 (Windows NT 10.0; Win64; x64)\"\n",
    "                                     \" AppleWebKit/537.36 (KHTML, like Gecko) Chrome/77.0.3865.120 Safari/537.36\"})\n",
    "    html_page = html.fromstring(response.text)\n",
    "\n",
    "    return html_page\n"
   ]
  },
  {
   "cell_type": "code",
   "execution_count": 4,
   "metadata": {},
   "outputs": [],
   "source": [
    "def get_news_mail(html_page):\n",
    "\n",
    "    news_name = html_page.xpath(\"//section[contains(@class, 'top7')]/div/div[@class='item']/a/text()|\"\n",
    "                                \"//section[contains(@class, 'top7')]/div/div[@class='first-item']/h2/a/text()\")\n",
    "    news_link = html_page.xpath(\"//section[contains(@class, 'top7')]/div/div[@class='item']/a/@href|\"\n",
    "                                \"//section[contains(@class, 'top7')]/div/div[@class='first-item']/h2/a/@href\")\n",
    "    news_date = html_page.xpath(\"//section[contains(@class, 'top7')]/div/div[@class='item']/a/time/@datetime|\"\n",
    "                                \"//section[contains(@class,'top7')]/div/div[@class='first-item']/h2/a/time/@datetime\")\n",
    "    return news_name, news_link, news_date"
   ]
  },
  {
   "cell_type": "code",
   "execution_count": 5,
   "metadata": {},
   "outputs": [],
   "source": [
    "news_name_lenta, news_link_lenta, news_date_lenta = get_news_mail(get_html(lenta_link))"
   ]
  },
  {
   "cell_type": "code",
   "execution_count": 6,
   "metadata": {},
   "outputs": [],
   "source": [
    "import datetime"
   ]
  },
  {
   "cell_type": "code",
   "execution_count": 7,
   "metadata": {},
   "outputs": [
    {
     "name": "stdout",
     "output_type": "stream",
     "text": [
      " 20:14, 28 октября 2019\n",
      " 20:20, 28 октября 2019\n",
      " 20:18, 28 октября 2019\n",
      " 20:16, 28 октября 2019\n",
      " 20:15, 28 октября 2019\n",
      " 20:11, 28 октября 2019\n",
      " 20:11, 28 октября 2019\n",
      " 20:09, 28 октября 2019\n",
      " 20:01, 28 октября 2019\n",
      " 19:52, 28 октября 2019\n"
     ]
    }
   ],
   "source": [
    "news_time_lenta = []\n",
    "for n in news_date_lenta:\n",
    "    print(n)\n",
    "    n = n.replace('октября', '10')\n",
    "    n = n.replace(',', '')\n",
    "    news_time_lenta.append(n)"
   ]
  },
  {
   "cell_type": "code",
   "execution_count": 8,
   "metadata": {},
   "outputs": [],
   "source": [
    "dates_lenta = []\n",
    "for d in news_time_lenta:\n",
    "    news_date = datetime.datetime.strptime(d, ' %H:%M %d %m %Y').strftime('%d/%m/%y,%H:%M')\n",
    "\n",
    "    dates_lenta.append(news_date)"
   ]
  },
  {
   "cell_type": "code",
   "execution_count": 9,
   "metadata": {},
   "outputs": [],
   "source": [
    "# forming a dataframe\n",
    "\n",
    "\n",
    "news_db_mail = pd.DataFrame({'News header': news_name_lenta, 'News link': news_link_lenta, 'News date': dates_lenta, 'News source': 'lenta.ru'},\n",
    "                     columns=['News header', 'News link', 'News date', 'News source'])\n",
    "\n"
   ]
  },
  {
   "cell_type": "code",
   "execution_count": 10,
   "metadata": {},
   "outputs": [
    {
     "data": {
      "text/html": [
       "<div>\n",
       "<style scoped>\n",
       "    .dataframe tbody tr th:only-of-type {\n",
       "        vertical-align: middle;\n",
       "    }\n",
       "\n",
       "    .dataframe tbody tr th {\n",
       "        vertical-align: top;\n",
       "    }\n",
       "\n",
       "    .dataframe thead th {\n",
       "        text-align: right;\n",
       "    }\n",
       "</style>\n",
       "<table border=\"1\" class=\"dataframe\">\n",
       "  <thead>\n",
       "    <tr style=\"text-align: right;\">\n",
       "      <th></th>\n",
       "      <th>News header</th>\n",
       "      <th>News link</th>\n",
       "      <th>News date</th>\n",
       "      <th>News source</th>\n",
       "    </tr>\n",
       "  </thead>\n",
       "  <tbody>\n",
       "    <tr>\n",
       "      <th>0</th>\n",
       "      <td>Трамп назвал Зеленского новым президентом России</td>\n",
       "      <td>/news/2019/10/28/russian/</td>\n",
       "      <td>28/10/19,20:14</td>\n",
       "      <td>lenta.ru</td>\n",
       "    </tr>\n",
       "    <tr>\n",
       "      <th>1</th>\n",
       "      <td>Французский бульдог сжег дом зажигалкой</td>\n",
       "      <td>/news/2019/10/28/archie/</td>\n",
       "      <td>28/10/19,20:20</td>\n",
       "      <td>lenta.ru</td>\n",
       "    </tr>\n",
       "    <tr>\n",
       "      <th>2</th>\n",
       "      <td>Женщина решила стать шеф-поваром и раскрыла об...</td>\n",
       "      <td>/news/2019/10/28/chef/</td>\n",
       "      <td>28/10/19,20:18</td>\n",
       "      <td>lenta.ru</td>\n",
       "    </tr>\n",
       "    <tr>\n",
       "      <th>3</th>\n",
       "      <td>Батареи москвичей разогреют до 92 градусов</td>\n",
       "      <td>https://moslenta.ru/news/batarei-moskvichei-ra...</td>\n",
       "      <td>28/10/19,20:16</td>\n",
       "      <td>lenta.ru</td>\n",
       "    </tr>\n",
       "    <tr>\n",
       "      <th>4</th>\n",
       "      <td>Российский обладатель Кубка Стэнли выбыл до ве...</td>\n",
       "      <td>/news/2019/10/28/tarasenko/</td>\n",
       "      <td>28/10/19,20:15</td>\n",
       "      <td>lenta.ru</td>\n",
       "    </tr>\n",
       "  </tbody>\n",
       "</table>\n",
       "</div>"
      ],
      "text/plain": [
       "                                         News header  \\\n",
       "0   Трамп назвал Зеленского новым президентом России   \n",
       "1            Французский бульдог сжег дом зажигалкой   \n",
       "2  Женщина решила стать шеф-поваром и раскрыла об...   \n",
       "3        Батареи москвичей разогреют до 92 градусов    \n",
       "4  Российский обладатель Кубка Стэнли выбыл до ве...   \n",
       "\n",
       "                                           News link       News date  \\\n",
       "0                          /news/2019/10/28/russian/  28/10/19,20:14   \n",
       "1                           /news/2019/10/28/archie/  28/10/19,20:20   \n",
       "2                             /news/2019/10/28/chef/  28/10/19,20:18   \n",
       "3  https://moslenta.ru/news/batarei-moskvichei-ra...  28/10/19,20:16   \n",
       "4                        /news/2019/10/28/tarasenko/  28/10/19,20:15   \n",
       "\n",
       "  News source  \n",
       "0    lenta.ru  \n",
       "1    lenta.ru  \n",
       "2    lenta.ru  \n",
       "3    lenta.ru  \n",
       "4    lenta.ru  "
      ]
     },
     "execution_count": 10,
     "metadata": {},
     "output_type": "execute_result"
    }
   ],
   "source": [
    "news_db_mail.head()"
   ]
  },
  {
   "cell_type": "code",
   "execution_count": null,
   "metadata": {},
   "outputs": [],
   "source": []
  }
 ],
 "metadata": {
  "kernelspec": {
   "display_name": "Python 3",
   "language": "python",
   "name": "python3"
  },
  "language_info": {
   "codemirror_mode": {
    "name": "ipython",
    "version": 3
   },
   "file_extension": ".py",
   "mimetype": "text/x-python",
   "name": "python",
   "nbconvert_exporter": "python",
   "pygments_lexer": "ipython3",
   "version": "3.7.2"
  }
 },
 "nbformat": 4,
 "nbformat_minor": 2
}
